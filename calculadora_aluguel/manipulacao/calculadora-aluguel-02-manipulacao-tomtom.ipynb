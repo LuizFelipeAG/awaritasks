{
 "cells": [
  {
   "cell_type": "markdown",
   "metadata": {},
   "source": [
    "### Manipulação de Dados da Calculadora de Aluguel - V2\n",
    "Como tivemos problemas com a conversão dos endereços para coordenadas de latitude e longitude, estudei a API do TomTom Maps https://developer.tomtom.com/content/search-api-explorer\n",
    "\n",
    "Apesar da limitação de 2500 queries diários gratuitos, a quantidade é suficiente para fazer a conversão dessa base da dados."
   ]
  },
  {
   "cell_type": "code",
   "execution_count": 1,
   "metadata": {},
   "outputs": [],
   "source": [
    "#Imports\n",
    "import pandas as pd\n",
    "import numpy as np\n",
    "import requests\n",
    "import re"
   ]
  },
  {
   "cell_type": "markdown",
   "metadata": {},
   "source": [
    "Uma mudança que se fez necessária no meu teste para interpretar os dados foi de converter o arquivo .csv para UTF-8"
   ]
  },
  {
   "cell_type": "code",
   "execution_count": 2,
   "metadata": {},
   "outputs": [],
   "source": [
    "#Parameters for TOMTOM\n",
    "#I fenced the search on the City of Rio de Janeiro using the topLeft and btmRight coordinates\n",
    "url = 'https://raw.githubusercontent.com/LuizFelipeAG/awaritasks/main/calculadora_aluguel/manipulacao/dadosrj-utf8.csv'\n",
    "TOMTOM_KEY='My_TomTom_Key'\n",
    "TOMTOM_URL='https://api.tomtom.com/search/2/geocode/{}.json?limit=1&countrySet=BR&topLeft=-22.79820%2C%20-43.79587&btmRight=-23.01830%2C%20-43.14903&key={}'"
   ]
  },
  {
   "cell_type": "code",
   "execution_count": 3,
   "metadata": {},
   "outputs": [],
   "source": [
    "#Functions\n",
    "\n",
    "def endereco2latlon(endereco):\n",
    "    tomtom_request_url=TOMTOM_URL.format(endereco, TOMTOM_KEY)\n",
    "    response = requests.get(tomtom_request_url, timeout=None).json()\n",
    "    endereco_lat = response['results'][0]['position']['lat']\n",
    "    endereco_lon = response['results'][0]['position']['lon']\n",
    "    return (endereco_lat, endereco_lon)\n",
    "\n",
    "def extrair_latitude(coordenada):\n",
    "  if coordenada != '':\n",
    "    lat = float(coordenada.split(',')[0].replace('(', ''))\n",
    "  else:\n",
    "    lat = np.nan\n",
    "  return lat\n",
    "\n",
    "def extrair_longitude(coordenada):\n",
    "  if coordenada != '':\n",
    "    lon = float(coordenada.split(',')[1].replace(')', ''))\n",
    "  else:\n",
    "    lon = np.nan\n",
    "  return lon\n",
    "\n",
    "def extrair_area(entrada):\n",
    "  \"\"\"Criar função que possua como entrada um texto e retorne a área contida no\n",
    "  mesmo. Retornar np.nan se for ausentes. Alguns exemplos:\n",
    "      >>> extrair_area('79 m² construídos1 quarto')\n",
    "      >>> 79\n",
    "      >>> extrair_area('280 m² construídos')\n",
    "      >>> 280\n",
    "      >>> extrair_area('2,600 m² construídos'\n",
    "      >>> 2600\n",
    "      >>> extrair_area('2 quartos')\n",
    "      >>> np.nan\n",
    "      \"\"\"\n",
    "  if ' m²' in entrada:\n",
    "    area = entrada.split(' m²')[0]\n",
    "    area = area.replace(',', '')\n",
    "  else:\n",
    "    area = np.nan\n",
    "  return area\n",
    "\n",
    "def extrair_quartos(entrada):\n",
    "  \"\"\"Criar função que possua como entrada um texto e retorne uma tupla com a \n",
    "  área e o quarto. Retornar np.nan se um dos dois for ausentes. Alguns exemplos:\n",
    "      >>> extrair_quarto('79 m² construídos1 quarto')\n",
    "      >>> 1\n",
    "      >>> extrair_quarto('280 m² construídos')\n",
    "      >>> np.nan\n",
    "      >>> extrair_quarto('2,600 m² construídos'\n",
    "      >>> np.nan\n",
    "      >>> extrair_quarto('2 quartos')\n",
    "      >>> 2\"\"\"\n",
    "  if 'quarto' in entrada:\n",
    "    n_quartos = re.findall('(\\d*) quarto', entrada)[0]\n",
    "  else:\n",
    "    n_quartos = np.nan\n",
    "  return n_quartos"
   ]
  },
  {
   "cell_type": "code",
   "execution_count": 4,
   "metadata": {},
   "outputs": [],
   "source": [
    "df = pd.read_csv(url, thousands='.', encoding='utf-8')"
   ]
  },
  {
   "cell_type": "markdown",
   "metadata": {},
   "source": [
    "### Primeira visusalização"
   ]
  },
  {
   "cell_type": "code",
   "execution_count": 5,
   "metadata": {},
   "outputs": [
    {
     "data": {
      "text/html": [
       "<div>\n",
       "<style scoped>\n",
       "    .dataframe tbody tr th:only-of-type {\n",
       "        vertical-align: middle;\n",
       "    }\n",
       "\n",
       "    .dataframe tbody tr th {\n",
       "        vertical-align: top;\n",
       "    }\n",
       "\n",
       "    .dataframe thead th {\n",
       "        text-align: right;\n",
       "    }\n",
       "</style>\n",
       "<table border=\"1\" class=\"dataframe\">\n",
       "  <thead>\n",
       "    <tr style=\"text-align: right;\">\n",
       "      <th></th>\n",
       "      <th>zona</th>\n",
       "      <th>area_quartos</th>\n",
       "      <th>enderecos_lista</th>\n",
       "      <th>aluguel</th>\n",
       "    </tr>\n",
       "  </thead>\n",
       "  <tbody>\n",
       "    <tr>\n",
       "      <th>0</th>\n",
       "      <td>centro</td>\n",
       "      <td>50 m² construídos1 quarto</td>\n",
       "      <td>Rua Senador Dantas, Centro, Rio De Janeiro Cen...</td>\n",
       "      <td>970</td>\n",
       "    </tr>\n",
       "    <tr>\n",
       "      <th>1</th>\n",
       "      <td>centro</td>\n",
       "      <td>28 m² construídos1 quarto</td>\n",
       "      <td>Rua Das Marrecas, Centro, Rio De Janeiro Centr...</td>\n",
       "      <td>1224</td>\n",
       "    </tr>\n",
       "    <tr>\n",
       "      <th>2</th>\n",
       "      <td>centro</td>\n",
       "      <td>38 m² construídos1 quarto</td>\n",
       "      <td>Rua De Santana, Centro, Rio De Janeiro Centro,...</td>\n",
       "      <td>1000</td>\n",
       "    </tr>\n",
       "    <tr>\n",
       "      <th>3</th>\n",
       "      <td>centro</td>\n",
       "      <td>62 m² construídos2 quartos</td>\n",
       "      <td>Rua Riachuelo, Centro, Rio De Janeiro Centro, ...</td>\n",
       "      <td>2200</td>\n",
       "    </tr>\n",
       "    <tr>\n",
       "      <th>4</th>\n",
       "      <td>centro</td>\n",
       "      <td>48 m² construídos2 quartos</td>\n",
       "      <td>Rua João Neves Da Fontoura, Centro, Rio De Jan...</td>\n",
       "      <td>1001</td>\n",
       "    </tr>\n",
       "  </tbody>\n",
       "</table>\n",
       "</div>"
      ],
      "text/plain": [
       "     zona                area_quartos  \\\n",
       "0  centro   50 m² construídos1 quarto   \n",
       "1  centro   28 m² construídos1 quarto   \n",
       "2  centro   38 m² construídos1 quarto   \n",
       "3  centro  62 m² construídos2 quartos   \n",
       "4  centro  48 m² construídos2 quartos   \n",
       "\n",
       "                                     enderecos_lista  aluguel  \n",
       "0  Rua Senador Dantas, Centro, Rio De Janeiro Cen...      970  \n",
       "1  Rua Das Marrecas, Centro, Rio De Janeiro Centr...     1224  \n",
       "2  Rua De Santana, Centro, Rio De Janeiro Centro,...     1000  \n",
       "3  Rua Riachuelo, Centro, Rio De Janeiro Centro, ...     2200  \n",
       "4  Rua João Neves Da Fontoura, Centro, Rio De Jan...     1001  "
      ]
     },
     "execution_count": 5,
     "metadata": {},
     "output_type": "execute_result"
    }
   ],
   "source": [
    "df.head()"
   ]
  },
  {
   "cell_type": "code",
   "execution_count": 6,
   "metadata": {},
   "outputs": [
    {
     "data": {
      "text/plain": [
       "zona               0\n",
       "area_quartos       0\n",
       "enderecos_lista    0\n",
       "aluguel            0\n",
       "dtype: int64"
      ]
     },
     "execution_count": 6,
     "metadata": {},
     "output_type": "execute_result"
    }
   ],
   "source": [
    "df.isna().sum()"
   ]
  },
  {
   "cell_type": "code",
   "execution_count": 7,
   "metadata": {},
   "outputs": [
    {
     "data": {
      "text/plain": [
       "zona-norte    336\n",
       "centro        336\n",
       "zona-sul      336\n",
       "zona-oeste    336\n",
       "Name: zona, dtype: int64"
      ]
     },
     "execution_count": 7,
     "metadata": {},
     "output_type": "execute_result"
    }
   ],
   "source": [
    "df['zona'].value_counts()"
   ]
  },
  {
   "cell_type": "code",
   "execution_count": 8,
   "metadata": {},
   "outputs": [
    {
     "data": {
      "text/plain": [
       "Centro, Rio De Janeiro Centro, Rio De Janeiro                                               205\n",
       "Rua Riachuelo, Centro, Rio De Janeiro Centro, Rio De Janeiro                                 21\n",
       "Vila Valqueire, Rio De Janeiro Zona Oeste, Rio De Janeiro                                    16\n",
       "Avenida Nossa Senhora De Copacabana, Copacabana, Rio De Janeiro Zona Sul, Rio De Janeiro     15\n",
       "Estrada Dos Bandeirantes, Jacarepaguá, Rio De Janeiro Zona Oeste, Rio De Janeiro             13\n",
       "                                                                                           ... \n",
       "Rua Augusto Nunes, Todos Os Santos, Rio De Janeiro Zona Norte, Rio De Janeiro                 1\n",
       "Rua Major Azevedo, Irajá, Rio De Janeiro Zona Norte, Rio De Janeiro                           1\n",
       "Rua Tomás Coelho, Vila Isabel, Rio De Janeiro Zona Norte, Rio De Janeiro                      1\n",
       "Rua Dos Andradas, Centro, Rio De Janeiro Centro, Rio De Janeiro                               1\n",
       "Rua José Higino, Tijuca, Rio De Janeiro Zona Norte, Rio De Janeiro                            1\n",
       "Name: enderecos_lista, Length: 675, dtype: int64"
      ]
     },
     "execution_count": 8,
     "metadata": {},
     "output_type": "execute_result"
    }
   ],
   "source": [
    "df.enderecos_lista.value_counts()"
   ]
  },
  {
   "cell_type": "markdown",
   "metadata": {},
   "source": [
    "### Limpeza\n",
    "A captura do selenium trouxe repetições no nome do bairro e cidade. Como estamos lidando somente com a cidade do Rio de Janeiro, vamos fazer uma substituição destes dados como limpeza. Isto irá facilitar a captura de coordenadas na API do TomTom."
   ]
  },
  {
   "cell_type": "code",
   "execution_count": 9,
   "metadata": {},
   "outputs": [],
   "source": [
    "df['enderecos_lista'].replace('Rio De Janeiro ?(.*)','Rio de Janeiro, RJ', inplace= True, regex = True)"
   ]
  },
  {
   "cell_type": "code",
   "execution_count": 10,
   "metadata": {},
   "outputs": [
    {
     "data": {
      "text/html": [
       "<div>\n",
       "<style scoped>\n",
       "    .dataframe tbody tr th:only-of-type {\n",
       "        vertical-align: middle;\n",
       "    }\n",
       "\n",
       "    .dataframe tbody tr th {\n",
       "        vertical-align: top;\n",
       "    }\n",
       "\n",
       "    .dataframe thead th {\n",
       "        text-align: right;\n",
       "    }\n",
       "</style>\n",
       "<table border=\"1\" class=\"dataframe\">\n",
       "  <thead>\n",
       "    <tr style=\"text-align: right;\">\n",
       "      <th></th>\n",
       "      <th>zona</th>\n",
       "      <th>area_quartos</th>\n",
       "      <th>enderecos_lista</th>\n",
       "      <th>aluguel</th>\n",
       "    </tr>\n",
       "  </thead>\n",
       "  <tbody>\n",
       "    <tr>\n",
       "      <th>0</th>\n",
       "      <td>centro</td>\n",
       "      <td>50 m² construídos1 quarto</td>\n",
       "      <td>Rua Senador Dantas, Centro, Rio de Janeiro, RJ</td>\n",
       "      <td>970</td>\n",
       "    </tr>\n",
       "    <tr>\n",
       "      <th>1</th>\n",
       "      <td>centro</td>\n",
       "      <td>28 m² construídos1 quarto</td>\n",
       "      <td>Rua Das Marrecas, Centro, Rio de Janeiro, RJ</td>\n",
       "      <td>1224</td>\n",
       "    </tr>\n",
       "    <tr>\n",
       "      <th>2</th>\n",
       "      <td>centro</td>\n",
       "      <td>38 m² construídos1 quarto</td>\n",
       "      <td>Rua De Santana, Centro, Rio de Janeiro, RJ</td>\n",
       "      <td>1000</td>\n",
       "    </tr>\n",
       "    <tr>\n",
       "      <th>3</th>\n",
       "      <td>centro</td>\n",
       "      <td>62 m² construídos2 quartos</td>\n",
       "      <td>Rua Riachuelo, Centro, Rio de Janeiro, RJ</td>\n",
       "      <td>2200</td>\n",
       "    </tr>\n",
       "    <tr>\n",
       "      <th>4</th>\n",
       "      <td>centro</td>\n",
       "      <td>48 m² construídos2 quartos</td>\n",
       "      <td>Rua João Neves Da Fontoura, Centro, Rio de Jan...</td>\n",
       "      <td>1001</td>\n",
       "    </tr>\n",
       "  </tbody>\n",
       "</table>\n",
       "</div>"
      ],
      "text/plain": [
       "     zona                area_quartos  \\\n",
       "0  centro   50 m² construídos1 quarto   \n",
       "1  centro   28 m² construídos1 quarto   \n",
       "2  centro   38 m² construídos1 quarto   \n",
       "3  centro  62 m² construídos2 quartos   \n",
       "4  centro  48 m² construídos2 quartos   \n",
       "\n",
       "                                     enderecos_lista  aluguel  \n",
       "0     Rua Senador Dantas, Centro, Rio de Janeiro, RJ      970  \n",
       "1       Rua Das Marrecas, Centro, Rio de Janeiro, RJ     1224  \n",
       "2         Rua De Santana, Centro, Rio de Janeiro, RJ     1000  \n",
       "3          Rua Riachuelo, Centro, Rio de Janeiro, RJ     2200  \n",
       "4  Rua João Neves Da Fontoura, Centro, Rio de Jan...     1001  "
      ]
     },
     "execution_count": 10,
     "metadata": {},
     "output_type": "execute_result"
    }
   ],
   "source": [
    "df.head()"
   ]
  },
  {
   "cell_type": "markdown",
   "metadata": {},
   "source": [
    "#### Capturando as coordenadas através do TomTom"
   ]
  },
  {
   "cell_type": "code",
   "execution_count": 11,
   "metadata": {},
   "outputs": [],
   "source": [
    "#Getting Lat and Lon from addresses\n",
    "df['coordenadas']=df['enderecos_lista'].apply(endereco2latlon).astype(str)"
   ]
  },
  {
   "cell_type": "code",
   "execution_count": 12,
   "metadata": {},
   "outputs": [
    {
     "data": {
      "text/html": [
       "<div>\n",
       "<style scoped>\n",
       "    .dataframe tbody tr th:only-of-type {\n",
       "        vertical-align: middle;\n",
       "    }\n",
       "\n",
       "    .dataframe tbody tr th {\n",
       "        vertical-align: top;\n",
       "    }\n",
       "\n",
       "    .dataframe thead th {\n",
       "        text-align: right;\n",
       "    }\n",
       "</style>\n",
       "<table border=\"1\" class=\"dataframe\">\n",
       "  <thead>\n",
       "    <tr style=\"text-align: right;\">\n",
       "      <th></th>\n",
       "      <th>zona</th>\n",
       "      <th>area_quartos</th>\n",
       "      <th>enderecos_lista</th>\n",
       "      <th>aluguel</th>\n",
       "      <th>coordenadas</th>\n",
       "    </tr>\n",
       "  </thead>\n",
       "  <tbody>\n",
       "    <tr>\n",
       "      <th>0</th>\n",
       "      <td>centro</td>\n",
       "      <td>50 m² construídos1 quarto</td>\n",
       "      <td>Rua Senador Dantas, Centro, Rio de Janeiro, RJ</td>\n",
       "      <td>970</td>\n",
       "      <td>(-22.91041, -43.17737)</td>\n",
       "    </tr>\n",
       "    <tr>\n",
       "      <th>1</th>\n",
       "      <td>centro</td>\n",
       "      <td>28 m² construídos1 quarto</td>\n",
       "      <td>Rua Das Marrecas, Centro, Rio de Janeiro, RJ</td>\n",
       "      <td>1224</td>\n",
       "      <td>(-22.9123, -43.17794)</td>\n",
       "    </tr>\n",
       "    <tr>\n",
       "      <th>2</th>\n",
       "      <td>centro</td>\n",
       "      <td>38 m² construídos1 quarto</td>\n",
       "      <td>Rua De Santana, Centro, Rio de Janeiro, RJ</td>\n",
       "      <td>1000</td>\n",
       "      <td>(-22.90892, -43.19369)</td>\n",
       "    </tr>\n",
       "    <tr>\n",
       "      <th>3</th>\n",
       "      <td>centro</td>\n",
       "      <td>62 m² construídos2 quartos</td>\n",
       "      <td>Rua Riachuelo, Centro, Rio de Janeiro, RJ</td>\n",
       "      <td>2200</td>\n",
       "      <td>(-22.91353, -43.18043)</td>\n",
       "    </tr>\n",
       "    <tr>\n",
       "      <th>4</th>\n",
       "      <td>centro</td>\n",
       "      <td>48 m² construídos2 quartos</td>\n",
       "      <td>Rua João Neves Da Fontoura, Centro, Rio de Jan...</td>\n",
       "      <td>1001</td>\n",
       "      <td>(-22.91777, -43.69936)</td>\n",
       "    </tr>\n",
       "  </tbody>\n",
       "</table>\n",
       "</div>"
      ],
      "text/plain": [
       "     zona                area_quartos  \\\n",
       "0  centro   50 m² construídos1 quarto   \n",
       "1  centro   28 m² construídos1 quarto   \n",
       "2  centro   38 m² construídos1 quarto   \n",
       "3  centro  62 m² construídos2 quartos   \n",
       "4  centro  48 m² construídos2 quartos   \n",
       "\n",
       "                                     enderecos_lista  aluguel  \\\n",
       "0     Rua Senador Dantas, Centro, Rio de Janeiro, RJ      970   \n",
       "1       Rua Das Marrecas, Centro, Rio de Janeiro, RJ     1224   \n",
       "2         Rua De Santana, Centro, Rio de Janeiro, RJ     1000   \n",
       "3          Rua Riachuelo, Centro, Rio de Janeiro, RJ     2200   \n",
       "4  Rua João Neves Da Fontoura, Centro, Rio de Jan...     1001   \n",
       "\n",
       "              coordenadas  \n",
       "0  (-22.91041, -43.17737)  \n",
       "1   (-22.9123, -43.17794)  \n",
       "2  (-22.90892, -43.19369)  \n",
       "3  (-22.91353, -43.18043)  \n",
       "4  (-22.91777, -43.69936)  "
      ]
     },
     "execution_count": 12,
     "metadata": {},
     "output_type": "execute_result"
    }
   ],
   "source": [
    "df.head()"
   ]
  },
  {
   "cell_type": "code",
   "execution_count": 13,
   "metadata": {},
   "outputs": [],
   "source": [
    "#aplicando funcoes para criar as colunas latitude e longitude\n",
    "df['latitude']=df['coordenadas'].apply(extrair_latitude).astype(float)\n",
    "df['longitude']=df['coordenadas'].apply(extrair_longitude).astype(float)"
   ]
  },
  {
   "cell_type": "code",
   "execution_count": 15,
   "metadata": {},
   "outputs": [],
   "source": [
    "# removendo a coluna coordenadas\n",
    "df = df.drop('coordenadas', axis=1)"
   ]
  },
  {
   "cell_type": "markdown",
   "metadata": {},
   "source": [
    "#### Separando as colunas área e quartos"
   ]
  },
  {
   "cell_type": "code",
   "execution_count": 16,
   "metadata": {},
   "outputs": [],
   "source": [
    "# Aplicando funcao para criar a coluna area\n",
    "df['area']=df['area_quartos'].apply(extrair_area).astype(float)"
   ]
  },
  {
   "cell_type": "code",
   "execution_count": 17,
   "metadata": {},
   "outputs": [
    {
     "data": {
      "text/html": [
       "<div>\n",
       "<style scoped>\n",
       "    .dataframe tbody tr th:only-of-type {\n",
       "        vertical-align: middle;\n",
       "    }\n",
       "\n",
       "    .dataframe tbody tr th {\n",
       "        vertical-align: top;\n",
       "    }\n",
       "\n",
       "    .dataframe thead th {\n",
       "        text-align: right;\n",
       "    }\n",
       "</style>\n",
       "<table border=\"1\" class=\"dataframe\">\n",
       "  <thead>\n",
       "    <tr style=\"text-align: right;\">\n",
       "      <th></th>\n",
       "      <th>zona</th>\n",
       "      <th>area_quartos</th>\n",
       "      <th>enderecos_lista</th>\n",
       "      <th>aluguel</th>\n",
       "      <th>latitude</th>\n",
       "      <th>longitude</th>\n",
       "      <th>area</th>\n",
       "    </tr>\n",
       "  </thead>\n",
       "  <tbody>\n",
       "    <tr>\n",
       "      <th>0</th>\n",
       "      <td>centro</td>\n",
       "      <td>50 m² construídos1 quarto</td>\n",
       "      <td>Rua Senador Dantas, Centro, Rio de Janeiro, RJ</td>\n",
       "      <td>970</td>\n",
       "      <td>-22.91041</td>\n",
       "      <td>-43.17737</td>\n",
       "      <td>50.0</td>\n",
       "    </tr>\n",
       "    <tr>\n",
       "      <th>1</th>\n",
       "      <td>centro</td>\n",
       "      <td>28 m² construídos1 quarto</td>\n",
       "      <td>Rua Das Marrecas, Centro, Rio de Janeiro, RJ</td>\n",
       "      <td>1224</td>\n",
       "      <td>-22.91230</td>\n",
       "      <td>-43.17794</td>\n",
       "      <td>28.0</td>\n",
       "    </tr>\n",
       "    <tr>\n",
       "      <th>2</th>\n",
       "      <td>centro</td>\n",
       "      <td>38 m² construídos1 quarto</td>\n",
       "      <td>Rua De Santana, Centro, Rio de Janeiro, RJ</td>\n",
       "      <td>1000</td>\n",
       "      <td>-22.90892</td>\n",
       "      <td>-43.19369</td>\n",
       "      <td>38.0</td>\n",
       "    </tr>\n",
       "    <tr>\n",
       "      <th>3</th>\n",
       "      <td>centro</td>\n",
       "      <td>62 m² construídos2 quartos</td>\n",
       "      <td>Rua Riachuelo, Centro, Rio de Janeiro, RJ</td>\n",
       "      <td>2200</td>\n",
       "      <td>-22.91353</td>\n",
       "      <td>-43.18043</td>\n",
       "      <td>62.0</td>\n",
       "    </tr>\n",
       "    <tr>\n",
       "      <th>4</th>\n",
       "      <td>centro</td>\n",
       "      <td>48 m² construídos2 quartos</td>\n",
       "      <td>Rua João Neves Da Fontoura, Centro, Rio de Jan...</td>\n",
       "      <td>1001</td>\n",
       "      <td>-22.91777</td>\n",
       "      <td>-43.69936</td>\n",
       "      <td>48.0</td>\n",
       "    </tr>\n",
       "  </tbody>\n",
       "</table>\n",
       "</div>"
      ],
      "text/plain": [
       "     zona                area_quartos  \\\n",
       "0  centro   50 m² construídos1 quarto   \n",
       "1  centro   28 m² construídos1 quarto   \n",
       "2  centro   38 m² construídos1 quarto   \n",
       "3  centro  62 m² construídos2 quartos   \n",
       "4  centro  48 m² construídos2 quartos   \n",
       "\n",
       "                                     enderecos_lista  aluguel  latitude  \\\n",
       "0     Rua Senador Dantas, Centro, Rio de Janeiro, RJ      970 -22.91041   \n",
       "1       Rua Das Marrecas, Centro, Rio de Janeiro, RJ     1224 -22.91230   \n",
       "2         Rua De Santana, Centro, Rio de Janeiro, RJ     1000 -22.90892   \n",
       "3          Rua Riachuelo, Centro, Rio de Janeiro, RJ     2200 -22.91353   \n",
       "4  Rua João Neves Da Fontoura, Centro, Rio de Jan...     1001 -22.91777   \n",
       "\n",
       "   longitude  area  \n",
       "0  -43.17737  50.0  \n",
       "1  -43.17794  28.0  \n",
       "2  -43.19369  38.0  \n",
       "3  -43.18043  62.0  \n",
       "4  -43.69936  48.0  "
      ]
     },
     "execution_count": 17,
     "metadata": {},
     "output_type": "execute_result"
    }
   ],
   "source": [
    "df.head()"
   ]
  },
  {
   "cell_type": "code",
   "execution_count": 18,
   "metadata": {},
   "outputs": [],
   "source": [
    "# Aplicando funcao para criar a coluna quartos\n",
    "df['quartos'] = df['area_quartos'].apply(extrair_quartos).astype(float)"
   ]
  },
  {
   "cell_type": "code",
   "execution_count": 19,
   "metadata": {},
   "outputs": [
    {
     "data": {
      "text/html": [
       "<div>\n",
       "<style scoped>\n",
       "    .dataframe tbody tr th:only-of-type {\n",
       "        vertical-align: middle;\n",
       "    }\n",
       "\n",
       "    .dataframe tbody tr th {\n",
       "        vertical-align: top;\n",
       "    }\n",
       "\n",
       "    .dataframe thead th {\n",
       "        text-align: right;\n",
       "    }\n",
       "</style>\n",
       "<table border=\"1\" class=\"dataframe\">\n",
       "  <thead>\n",
       "    <tr style=\"text-align: right;\">\n",
       "      <th></th>\n",
       "      <th>zona</th>\n",
       "      <th>area_quartos</th>\n",
       "      <th>enderecos_lista</th>\n",
       "      <th>aluguel</th>\n",
       "      <th>latitude</th>\n",
       "      <th>longitude</th>\n",
       "      <th>area</th>\n",
       "      <th>quartos</th>\n",
       "    </tr>\n",
       "  </thead>\n",
       "  <tbody>\n",
       "    <tr>\n",
       "      <th>0</th>\n",
       "      <td>centro</td>\n",
       "      <td>50 m² construídos1 quarto</td>\n",
       "      <td>Rua Senador Dantas, Centro, Rio de Janeiro, RJ</td>\n",
       "      <td>970</td>\n",
       "      <td>-22.91041</td>\n",
       "      <td>-43.17737</td>\n",
       "      <td>50.0</td>\n",
       "      <td>1.0</td>\n",
       "    </tr>\n",
       "    <tr>\n",
       "      <th>1</th>\n",
       "      <td>centro</td>\n",
       "      <td>28 m² construídos1 quarto</td>\n",
       "      <td>Rua Das Marrecas, Centro, Rio de Janeiro, RJ</td>\n",
       "      <td>1224</td>\n",
       "      <td>-22.91230</td>\n",
       "      <td>-43.17794</td>\n",
       "      <td>28.0</td>\n",
       "      <td>1.0</td>\n",
       "    </tr>\n",
       "    <tr>\n",
       "      <th>2</th>\n",
       "      <td>centro</td>\n",
       "      <td>38 m² construídos1 quarto</td>\n",
       "      <td>Rua De Santana, Centro, Rio de Janeiro, RJ</td>\n",
       "      <td>1000</td>\n",
       "      <td>-22.90892</td>\n",
       "      <td>-43.19369</td>\n",
       "      <td>38.0</td>\n",
       "      <td>1.0</td>\n",
       "    </tr>\n",
       "    <tr>\n",
       "      <th>3</th>\n",
       "      <td>centro</td>\n",
       "      <td>62 m² construídos2 quartos</td>\n",
       "      <td>Rua Riachuelo, Centro, Rio de Janeiro, RJ</td>\n",
       "      <td>2200</td>\n",
       "      <td>-22.91353</td>\n",
       "      <td>-43.18043</td>\n",
       "      <td>62.0</td>\n",
       "      <td>2.0</td>\n",
       "    </tr>\n",
       "    <tr>\n",
       "      <th>4</th>\n",
       "      <td>centro</td>\n",
       "      <td>48 m² construídos2 quartos</td>\n",
       "      <td>Rua João Neves Da Fontoura, Centro, Rio de Jan...</td>\n",
       "      <td>1001</td>\n",
       "      <td>-22.91777</td>\n",
       "      <td>-43.69936</td>\n",
       "      <td>48.0</td>\n",
       "      <td>2.0</td>\n",
       "    </tr>\n",
       "  </tbody>\n",
       "</table>\n",
       "</div>"
      ],
      "text/plain": [
       "     zona                area_quartos  \\\n",
       "0  centro   50 m² construídos1 quarto   \n",
       "1  centro   28 m² construídos1 quarto   \n",
       "2  centro   38 m² construídos1 quarto   \n",
       "3  centro  62 m² construídos2 quartos   \n",
       "4  centro  48 m² construídos2 quartos   \n",
       "\n",
       "                                     enderecos_lista  aluguel  latitude  \\\n",
       "0     Rua Senador Dantas, Centro, Rio de Janeiro, RJ      970 -22.91041   \n",
       "1       Rua Das Marrecas, Centro, Rio de Janeiro, RJ     1224 -22.91230   \n",
       "2         Rua De Santana, Centro, Rio de Janeiro, RJ     1000 -22.90892   \n",
       "3          Rua Riachuelo, Centro, Rio de Janeiro, RJ     2200 -22.91353   \n",
       "4  Rua João Neves Da Fontoura, Centro, Rio de Jan...     1001 -22.91777   \n",
       "\n",
       "   longitude  area  quartos  \n",
       "0  -43.17737  50.0      1.0  \n",
       "1  -43.17794  28.0      1.0  \n",
       "2  -43.19369  38.0      1.0  \n",
       "3  -43.18043  62.0      2.0  \n",
       "4  -43.69936  48.0      2.0  "
      ]
     },
     "execution_count": 19,
     "metadata": {},
     "output_type": "execute_result"
    }
   ],
   "source": [
    "df.head()"
   ]
  },
  {
   "cell_type": "code",
   "execution_count": 20,
   "metadata": {},
   "outputs": [],
   "source": [
    "# removendo a coluna area_quartos\n",
    "df = df.drop('area_quartos', axis=1)"
   ]
  },
  {
   "cell_type": "code",
   "execution_count": 21,
   "metadata": {},
   "outputs": [],
   "source": [
    "# reposicionando as colunas\n",
    "cols = ['zona', 'enderecos_lista','latitude', 'longitude', 'area', 'quartos', 'aluguel']"
   ]
  },
  {
   "cell_type": "code",
   "execution_count": 22,
   "metadata": {},
   "outputs": [],
   "source": [
    "df=df[cols]"
   ]
  },
  {
   "cell_type": "code",
   "execution_count": 23,
   "metadata": {},
   "outputs": [
    {
     "data": {
      "text/html": [
       "<div>\n",
       "<style scoped>\n",
       "    .dataframe tbody tr th:only-of-type {\n",
       "        vertical-align: middle;\n",
       "    }\n",
       "\n",
       "    .dataframe tbody tr th {\n",
       "        vertical-align: top;\n",
       "    }\n",
       "\n",
       "    .dataframe thead th {\n",
       "        text-align: right;\n",
       "    }\n",
       "</style>\n",
       "<table border=\"1\" class=\"dataframe\">\n",
       "  <thead>\n",
       "    <tr style=\"text-align: right;\">\n",
       "      <th></th>\n",
       "      <th>zona</th>\n",
       "      <th>enderecos_lista</th>\n",
       "      <th>latitude</th>\n",
       "      <th>longitude</th>\n",
       "      <th>area</th>\n",
       "      <th>quartos</th>\n",
       "      <th>aluguel</th>\n",
       "    </tr>\n",
       "  </thead>\n",
       "  <tbody>\n",
       "    <tr>\n",
       "      <th>0</th>\n",
       "      <td>centro</td>\n",
       "      <td>Rua Senador Dantas, Centro, Rio de Janeiro, RJ</td>\n",
       "      <td>-22.91041</td>\n",
       "      <td>-43.17737</td>\n",
       "      <td>50.0</td>\n",
       "      <td>1.0</td>\n",
       "      <td>970</td>\n",
       "    </tr>\n",
       "    <tr>\n",
       "      <th>1</th>\n",
       "      <td>centro</td>\n",
       "      <td>Rua Das Marrecas, Centro, Rio de Janeiro, RJ</td>\n",
       "      <td>-22.91230</td>\n",
       "      <td>-43.17794</td>\n",
       "      <td>28.0</td>\n",
       "      <td>1.0</td>\n",
       "      <td>1224</td>\n",
       "    </tr>\n",
       "    <tr>\n",
       "      <th>2</th>\n",
       "      <td>centro</td>\n",
       "      <td>Rua De Santana, Centro, Rio de Janeiro, RJ</td>\n",
       "      <td>-22.90892</td>\n",
       "      <td>-43.19369</td>\n",
       "      <td>38.0</td>\n",
       "      <td>1.0</td>\n",
       "      <td>1000</td>\n",
       "    </tr>\n",
       "    <tr>\n",
       "      <th>3</th>\n",
       "      <td>centro</td>\n",
       "      <td>Rua Riachuelo, Centro, Rio de Janeiro, RJ</td>\n",
       "      <td>-22.91353</td>\n",
       "      <td>-43.18043</td>\n",
       "      <td>62.0</td>\n",
       "      <td>2.0</td>\n",
       "      <td>2200</td>\n",
       "    </tr>\n",
       "    <tr>\n",
       "      <th>4</th>\n",
       "      <td>centro</td>\n",
       "      <td>Rua João Neves Da Fontoura, Centro, Rio de Jan...</td>\n",
       "      <td>-22.91777</td>\n",
       "      <td>-43.69936</td>\n",
       "      <td>48.0</td>\n",
       "      <td>2.0</td>\n",
       "      <td>1001</td>\n",
       "    </tr>\n",
       "  </tbody>\n",
       "</table>\n",
       "</div>"
      ],
      "text/plain": [
       "     zona                                    enderecos_lista  latitude  \\\n",
       "0  centro     Rua Senador Dantas, Centro, Rio de Janeiro, RJ -22.91041   \n",
       "1  centro       Rua Das Marrecas, Centro, Rio de Janeiro, RJ -22.91230   \n",
       "2  centro         Rua De Santana, Centro, Rio de Janeiro, RJ -22.90892   \n",
       "3  centro          Rua Riachuelo, Centro, Rio de Janeiro, RJ -22.91353   \n",
       "4  centro  Rua João Neves Da Fontoura, Centro, Rio de Jan... -22.91777   \n",
       "\n",
       "   longitude  area  quartos  aluguel  \n",
       "0  -43.17737  50.0      1.0      970  \n",
       "1  -43.17794  28.0      1.0     1224  \n",
       "2  -43.19369  38.0      1.0     1000  \n",
       "3  -43.18043  62.0      2.0     2200  \n",
       "4  -43.69936  48.0      2.0     1001  "
      ]
     },
     "execution_count": 23,
     "metadata": {},
     "output_type": "execute_result"
    }
   ],
   "source": [
    "df.head()"
   ]
  },
  {
   "cell_type": "code",
   "execution_count": 24,
   "metadata": {},
   "outputs": [],
   "source": [
    "# antes de movermos para preprocessamentos voltados à valores ausentes, vamos \n",
    "# salvar os dados do jeito como estão\n",
    "df.to_csv('dados_aluguel_ml_rj_preprocessado.csv', index=False)"
   ]
  },
  {
   "cell_type": "code",
   "execution_count": 25,
   "metadata": {},
   "outputs": [],
   "source": [
    "# Index=false usado anteriormente para que o csv seja carregado sem necessitar argumentos adicionais\n",
    "df = pd.read_csv('dados_aluguel_ml_rj_preprocessado.csv')"
   ]
  },
  {
   "cell_type": "code",
   "execution_count": 26,
   "metadata": {},
   "outputs": [
    {
     "data": {
      "text/html": [
       "<div>\n",
       "<style scoped>\n",
       "    .dataframe tbody tr th:only-of-type {\n",
       "        vertical-align: middle;\n",
       "    }\n",
       "\n",
       "    .dataframe tbody tr th {\n",
       "        vertical-align: top;\n",
       "    }\n",
       "\n",
       "    .dataframe thead th {\n",
       "        text-align: right;\n",
       "    }\n",
       "</style>\n",
       "<table border=\"1\" class=\"dataframe\">\n",
       "  <thead>\n",
       "    <tr style=\"text-align: right;\">\n",
       "      <th></th>\n",
       "      <th>zona</th>\n",
       "      <th>enderecos_lista</th>\n",
       "      <th>latitude</th>\n",
       "      <th>longitude</th>\n",
       "      <th>area</th>\n",
       "      <th>quartos</th>\n",
       "      <th>aluguel</th>\n",
       "    </tr>\n",
       "  </thead>\n",
       "  <tbody>\n",
       "    <tr>\n",
       "      <th>0</th>\n",
       "      <td>centro</td>\n",
       "      <td>Rua Senador Dantas, Centro, Rio de Janeiro, RJ</td>\n",
       "      <td>-22.91041</td>\n",
       "      <td>-43.17737</td>\n",
       "      <td>50.0</td>\n",
       "      <td>1.0</td>\n",
       "      <td>970</td>\n",
       "    </tr>\n",
       "    <tr>\n",
       "      <th>1</th>\n",
       "      <td>centro</td>\n",
       "      <td>Rua Das Marrecas, Centro, Rio de Janeiro, RJ</td>\n",
       "      <td>-22.91230</td>\n",
       "      <td>-43.17794</td>\n",
       "      <td>28.0</td>\n",
       "      <td>1.0</td>\n",
       "      <td>1224</td>\n",
       "    </tr>\n",
       "    <tr>\n",
       "      <th>2</th>\n",
       "      <td>centro</td>\n",
       "      <td>Rua De Santana, Centro, Rio de Janeiro, RJ</td>\n",
       "      <td>-22.90892</td>\n",
       "      <td>-43.19369</td>\n",
       "      <td>38.0</td>\n",
       "      <td>1.0</td>\n",
       "      <td>1000</td>\n",
       "    </tr>\n",
       "    <tr>\n",
       "      <th>3</th>\n",
       "      <td>centro</td>\n",
       "      <td>Rua Riachuelo, Centro, Rio de Janeiro, RJ</td>\n",
       "      <td>-22.91353</td>\n",
       "      <td>-43.18043</td>\n",
       "      <td>62.0</td>\n",
       "      <td>2.0</td>\n",
       "      <td>2200</td>\n",
       "    </tr>\n",
       "    <tr>\n",
       "      <th>4</th>\n",
       "      <td>centro</td>\n",
       "      <td>Rua João Neves Da Fontoura, Centro, Rio de Jan...</td>\n",
       "      <td>-22.91777</td>\n",
       "      <td>-43.69936</td>\n",
       "      <td>48.0</td>\n",
       "      <td>2.0</td>\n",
       "      <td>1001</td>\n",
       "    </tr>\n",
       "  </tbody>\n",
       "</table>\n",
       "</div>"
      ],
      "text/plain": [
       "     zona                                    enderecos_lista  latitude  \\\n",
       "0  centro     Rua Senador Dantas, Centro, Rio de Janeiro, RJ -22.91041   \n",
       "1  centro       Rua Das Marrecas, Centro, Rio de Janeiro, RJ -22.91230   \n",
       "2  centro         Rua De Santana, Centro, Rio de Janeiro, RJ -22.90892   \n",
       "3  centro          Rua Riachuelo, Centro, Rio de Janeiro, RJ -22.91353   \n",
       "4  centro  Rua João Neves Da Fontoura, Centro, Rio de Jan... -22.91777   \n",
       "\n",
       "   longitude  area  quartos  aluguel  \n",
       "0  -43.17737  50.0      1.0      970  \n",
       "1  -43.17794  28.0      1.0     1224  \n",
       "2  -43.19369  38.0      1.0     1000  \n",
       "3  -43.18043  62.0      2.0     2200  \n",
       "4  -43.69936  48.0      2.0     1001  "
      ]
     },
     "execution_count": 26,
     "metadata": {},
     "output_type": "execute_result"
    }
   ],
   "source": [
    "df.head()"
   ]
  }
 ],
 "metadata": {
  "kernelspec": {
   "display_name": "Python 3",
   "language": "python",
   "name": "python3"
  },
  "language_info": {
   "codemirror_mode": {
    "name": "ipython",
    "version": 3
   },
   "file_extension": ".py",
   "mimetype": "text/x-python",
   "name": "python",
   "nbconvert_exporter": "python",
   "pygments_lexer": "ipython3",
   "version": "3.8.3"
  }
 },
 "nbformat": 4,
 "nbformat_minor": 4
}
