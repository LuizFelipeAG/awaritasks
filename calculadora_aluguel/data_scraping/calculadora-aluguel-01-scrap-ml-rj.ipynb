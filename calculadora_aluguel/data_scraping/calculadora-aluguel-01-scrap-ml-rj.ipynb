{
 "cells": [
  {
   "cell_type": "code",
   "execution_count": 1,
   "metadata": {},
   "outputs": [],
   "source": [
    "# Imports\n",
    "import requests\n",
    "from bs4 import BeautifulSoup\n",
    "import pandas as pd\n",
    "from time import sleep"
   ]
  },
  {
   "cell_type": "code",
   "execution_count": 2,
   "metadata": {},
   "outputs": [],
   "source": [
    "c=requests.get('https://imoveis.mercadolivre.com.br/aluguel/').content"
   ]
  },
  {
   "cell_type": "code",
   "execution_count": 4,
   "metadata": {},
   "outputs": [],
   "source": [
    "# Parameters\n",
    "zonas = ['centro', 'zona-oeste', 'zona-norte', 'zona-sul']\n",
    "URL='https://imoveis.mercadolivre.com.br/aluguel/rio-de-janeiro/rio-de-janeiro-{}/{}'\n",
    "paginas = ['', '_Desde_49', '_Desde_97', '_Desde_145', '_Desde_193', \n",
    "           '_Desde_241', '_Desde_289']"
   ]
  },
  {
   "cell_type": "code",
   "execution_count": 5,
   "metadata": {},
   "outputs": [],
   "source": [
    "# Functions\n",
    "def scrap(url):\n",
    "    c=requests.get(url).content\n",
    "    soup=BeautifulSoup(c)\n",
    "    aluguel_tags = soup.find_all('span', {'class':'price-tag-fraction'})\n",
    "    alugueis_lista = [p.text for p in aluguel_tags]\n",
    "    enderecos_tags = soup.find_all('span', {'class':'ui-search-item__group__element'})\n",
    "    enderecos_lista=[end.text for end in enderecos_tags]\n",
    "    enderecos_lista=enderecos_lista[1::2]\n",
    "    area_quartos_tags = soup.find_all('ul', {'class':'ui-search-card-attributes'})\n",
    "    area_quartos_lista=[aq.text for aq in area_quartos_tags]\n",
    "    df=convert_df(zona, area_quartos_lista, enderecos_lista, alugueis_lista)\n",
    "    return df\n",
    "\n",
    "def convert_df(zona, area_quartos_lista, enderecos_lista, alugueis_lista):\n",
    "    zonas_lista = [zona]*len(alugueis_lista)\n",
    "    data = {'zona': zonas_lista,\n",
    "            'area_quartos': area_quartos_lista,\n",
    "            'enderecos_lista':enderecos_lista,\n",
    "            'aluguel': alugueis_lista}\n",
    "    df = pd.DataFrame(data)\n",
    "    return df"
   ]
  },
  {
   "cell_type": "code",
   "execution_count": 8,
   "metadata": {},
   "outputs": [
    {
     "name": "stdout",
     "output_type": "stream",
     "text": [
      "Coletando URL: https://imoveis.mercadolivre.com.br/aluguel/rio-de-janeiro/rio-de-janeiro-centro/\n",
      "Coletando URL: https://imoveis.mercadolivre.com.br/aluguel/rio-de-janeiro/rio-de-janeiro-centro/_Desde_49\n",
      "Coletando URL: https://imoveis.mercadolivre.com.br/aluguel/rio-de-janeiro/rio-de-janeiro-centro/_Desde_97\n",
      "Coletando URL: https://imoveis.mercadolivre.com.br/aluguel/rio-de-janeiro/rio-de-janeiro-centro/_Desde_145\n",
      "Erro ao coletar URL: https://imoveis.mercadolivre.com.br/aluguel/rio-de-janeiro/rio-de-janeiro-centro/_Desde_145\n",
      "arrays must all be same length\n",
      "Coletando URL: https://imoveis.mercadolivre.com.br/aluguel/rio-de-janeiro/rio-de-janeiro-centro/_Desde_193\n",
      "Coletando URL: https://imoveis.mercadolivre.com.br/aluguel/rio-de-janeiro/rio-de-janeiro-centro/_Desde_241\n",
      "Erro ao coletar URL: https://imoveis.mercadolivre.com.br/aluguel/rio-de-janeiro/rio-de-janeiro-centro/_Desde_241\n",
      "arrays must all be same length\n",
      "Coletando URL: https://imoveis.mercadolivre.com.br/aluguel/rio-de-janeiro/rio-de-janeiro-centro/_Desde_289\n",
      "Erro ao coletar URL: https://imoveis.mercadolivre.com.br/aluguel/rio-de-janeiro/rio-de-janeiro-centro/_Desde_289\n",
      "arrays must all be same length\n",
      "Coletando URL: https://imoveis.mercadolivre.com.br/aluguel/rio-de-janeiro/rio-de-janeiro-zona-oeste/\n",
      "Coletando URL: https://imoveis.mercadolivre.com.br/aluguel/rio-de-janeiro/rio-de-janeiro-zona-oeste/_Desde_49\n",
      "Coletando URL: https://imoveis.mercadolivre.com.br/aluguel/rio-de-janeiro/rio-de-janeiro-zona-oeste/_Desde_97\n",
      "Coletando URL: https://imoveis.mercadolivre.com.br/aluguel/rio-de-janeiro/rio-de-janeiro-zona-oeste/_Desde_145\n",
      "Coletando URL: https://imoveis.mercadolivre.com.br/aluguel/rio-de-janeiro/rio-de-janeiro-zona-oeste/_Desde_193\n",
      "Coletando URL: https://imoveis.mercadolivre.com.br/aluguel/rio-de-janeiro/rio-de-janeiro-zona-oeste/_Desde_241\n",
      "Coletando URL: https://imoveis.mercadolivre.com.br/aluguel/rio-de-janeiro/rio-de-janeiro-zona-oeste/_Desde_289\n",
      "Erro ao coletar URL: https://imoveis.mercadolivre.com.br/aluguel/rio-de-janeiro/rio-de-janeiro-zona-oeste/_Desde_289\n",
      "arrays must all be same length\n",
      "Coletando URL: https://imoveis.mercadolivre.com.br/aluguel/rio-de-janeiro/rio-de-janeiro-zona-norte/\n",
      "Coletando URL: https://imoveis.mercadolivre.com.br/aluguel/rio-de-janeiro/rio-de-janeiro-zona-norte/_Desde_49\n",
      "Coletando URL: https://imoveis.mercadolivre.com.br/aluguel/rio-de-janeiro/rio-de-janeiro-zona-norte/_Desde_97\n",
      "Coletando URL: https://imoveis.mercadolivre.com.br/aluguel/rio-de-janeiro/rio-de-janeiro-zona-norte/_Desde_145\n",
      "Coletando URL: https://imoveis.mercadolivre.com.br/aluguel/rio-de-janeiro/rio-de-janeiro-zona-norte/_Desde_193\n",
      "Coletando URL: https://imoveis.mercadolivre.com.br/aluguel/rio-de-janeiro/rio-de-janeiro-zona-norte/_Desde_241\n",
      "Coletando URL: https://imoveis.mercadolivre.com.br/aluguel/rio-de-janeiro/rio-de-janeiro-zona-norte/_Desde_289\n",
      "Coletando URL: https://imoveis.mercadolivre.com.br/aluguel/rio-de-janeiro/rio-de-janeiro-zona-sul/\n",
      "Coletando URL: https://imoveis.mercadolivre.com.br/aluguel/rio-de-janeiro/rio-de-janeiro-zona-sul/_Desde_49\n",
      "Coletando URL: https://imoveis.mercadolivre.com.br/aluguel/rio-de-janeiro/rio-de-janeiro-zona-sul/_Desde_97\n",
      "Coletando URL: https://imoveis.mercadolivre.com.br/aluguel/rio-de-janeiro/rio-de-janeiro-zona-sul/_Desde_145\n",
      "Coletando URL: https://imoveis.mercadolivre.com.br/aluguel/rio-de-janeiro/rio-de-janeiro-zona-sul/_Desde_193\n",
      "Coletando URL: https://imoveis.mercadolivre.com.br/aluguel/rio-de-janeiro/rio-de-janeiro-zona-sul/_Desde_241\n",
      "Coletando URL: https://imoveis.mercadolivre.com.br/aluguel/rio-de-janeiro/rio-de-janeiro-zona-sul/_Desde_289\n"
     ]
    }
   ],
   "source": [
    "# Execution\n",
    "df_lista = []\n",
    "for zona in zonas:\n",
    "  for pg in paginas:\n",
    "    url=URL.format(zona, pg)\n",
    "    print('Coletando URL:', url)\n",
    "    try:\n",
    "      df=scrap(url)\n",
    "    except Exception as e:\n",
    "      print('Erro ao coletar URL:', url)\n",
    "      print(e)\n",
    "    df_lista.append(df)\n",
    "    sleep(1)\n",
    "df_final = pd.concat(df_lista)"
   ]
  },
  {
   "cell_type": "code",
   "execution_count": 9,
   "metadata": {},
   "outputs": [
    {
     "data": {
      "text/html": [
       "<div>\n",
       "<style scoped>\n",
       "    .dataframe tbody tr th:only-of-type {\n",
       "        vertical-align: middle;\n",
       "    }\n",
       "\n",
       "    .dataframe tbody tr th {\n",
       "        vertical-align: top;\n",
       "    }\n",
       "\n",
       "    .dataframe thead th {\n",
       "        text-align: right;\n",
       "    }\n",
       "</style>\n",
       "<table border=\"1\" class=\"dataframe\">\n",
       "  <thead>\n",
       "    <tr style=\"text-align: right;\">\n",
       "      <th></th>\n",
       "      <th>zona</th>\n",
       "      <th>area_quartos</th>\n",
       "      <th>enderecos_lista</th>\n",
       "      <th>aluguel</th>\n",
       "    </tr>\n",
       "  </thead>\n",
       "  <tbody>\n",
       "    <tr>\n",
       "      <th>0</th>\n",
       "      <td>centro</td>\n",
       "      <td>50 m² construídos1 quarto</td>\n",
       "      <td>Rua Senador Dantas, Centro, Rio De Janeiro Cen...</td>\n",
       "      <td>970</td>\n",
       "    </tr>\n",
       "    <tr>\n",
       "      <th>1</th>\n",
       "      <td>centro</td>\n",
       "      <td>28 m² construídos1 quarto</td>\n",
       "      <td>Rua Das Marrecas, Centro, Rio De Janeiro Centr...</td>\n",
       "      <td>1.224</td>\n",
       "    </tr>\n",
       "    <tr>\n",
       "      <th>2</th>\n",
       "      <td>centro</td>\n",
       "      <td>38 m² construídos1 quarto</td>\n",
       "      <td>Rua De Santana, Centro, Rio De Janeiro Centro,...</td>\n",
       "      <td>1.000</td>\n",
       "    </tr>\n",
       "    <tr>\n",
       "      <th>3</th>\n",
       "      <td>centro</td>\n",
       "      <td>62 m² construídos2 quartos</td>\n",
       "      <td>Rua Riachuelo, Centro, Rio De Janeiro Centro, ...</td>\n",
       "      <td>2.200</td>\n",
       "    </tr>\n",
       "    <tr>\n",
       "      <th>4</th>\n",
       "      <td>centro</td>\n",
       "      <td>48 m² construídos2 quartos</td>\n",
       "      <td>Rua João Neves Da Fontoura, Centro, Rio De Jan...</td>\n",
       "      <td>1.001</td>\n",
       "    </tr>\n",
       "  </tbody>\n",
       "</table>\n",
       "</div>"
      ],
      "text/plain": [
       "     zona                area_quartos  \\\n",
       "0  centro   50 m² construídos1 quarto   \n",
       "1  centro   28 m² construídos1 quarto   \n",
       "2  centro   38 m² construídos1 quarto   \n",
       "3  centro  62 m² construídos2 quartos   \n",
       "4  centro  48 m² construídos2 quartos   \n",
       "\n",
       "                                     enderecos_lista aluguel  \n",
       "0  Rua Senador Dantas, Centro, Rio De Janeiro Cen...     970  \n",
       "1  Rua Das Marrecas, Centro, Rio De Janeiro Centr...   1.224  \n",
       "2  Rua De Santana, Centro, Rio De Janeiro Centro,...   1.000  \n",
       "3  Rua Riachuelo, Centro, Rio De Janeiro Centro, ...   2.200  \n",
       "4  Rua João Neves Da Fontoura, Centro, Rio De Jan...   1.001  "
      ]
     },
     "execution_count": 9,
     "metadata": {},
     "output_type": "execute_result"
    }
   ],
   "source": [
    "df_final.head()"
   ]
  },
  {
   "cell_type": "code",
   "execution_count": 10,
   "metadata": {},
   "outputs": [
    {
     "name": "stdout",
     "output_type": "stream",
     "text": [
      "<class 'pandas.core.frame.DataFrame'>\n",
      "Int64Index: 1311 entries, 0 to 47\n",
      "Data columns (total 4 columns):\n",
      " #   Column           Non-Null Count  Dtype \n",
      "---  ------           --------------  ----- \n",
      " 0   zona             1311 non-null   object\n",
      " 1   area_quartos     1311 non-null   object\n",
      " 2   enderecos_lista  1311 non-null   object\n",
      " 3   aluguel          1311 non-null   object\n",
      "dtypes: object(4)\n",
      "memory usage: 51.2+ KB\n"
     ]
    }
   ],
   "source": [
    "df_final.info()"
   ]
  },
  {
   "cell_type": "code",
   "execution_count": null,
   "metadata": {},
   "outputs": [],
   "source": []
  }
 ],
 "metadata": {
  "kernelspec": {
   "display_name": "Python 3",
   "language": "python",
   "name": "python3"
  },
  "language_info": {
   "codemirror_mode": {
    "name": "ipython",
    "version": 3
   },
   "file_extension": ".py",
   "mimetype": "text/x-python",
   "name": "python",
   "nbconvert_exporter": "python",
   "pygments_lexer": "ipython3",
   "version": "3.8.3"
  }
 },
 "nbformat": 4,
 "nbformat_minor": 4
}
