{
 "cells": [
  {
   "cell_type": "code",
   "execution_count": 1,
   "id": "34ec7d81",
   "metadata": {},
   "outputs": [],
   "source": [
    "#Imports\n",
    "import os\n",
    "import numpy as np\n",
    "import matplotlib.pyplot as plt\n",
    "import tensorflow as tf\n",
    "from tensorflow.keras.models import Sequential\n",
    "from tensorflow.keras.layers import Dense\n",
    "from tensorflow.keras.optimizers import Adam\n",
    "from tensorflow.keras.preprocessing.image import ImageDataGenerator"
   ]
  },
  {
   "cell_type": "code",
   "execution_count": 2,
   "id": "371e6f03",
   "metadata": {},
   "outputs": [
    {
     "data": {
      "text/plain": [
       "99003388"
      ]
     },
     "execution_count": 2,
     "metadata": {},
     "output_type": "execute_result"
    }
   ],
   "source": [
    "import requests\n",
    "url = 'https://s3.amazonaws.com/fast-ai-imageclas/imagenette2-160.tgz'\n",
    "r = requests.get(url, allow_redirects=True)\n",
    "open('imagenette2-160.tgz', 'wb').write(r.content)"
   ]
  },
  {
   "cell_type": "code",
   "execution_count": 3,
   "id": "ccfa0706",
   "metadata": {},
   "outputs": [
    {
     "name": "stdout",
     "output_type": "stream",
     "text": [
      "-f.tgz\n",
      "ipykernel_launcher <filename>\n"
     ]
    }
   ],
   "source": [
    "import sys, tarfile\n",
    "def extract(tar_url, extract_path='.'):\n",
    "    print(tar_url)\n",
    "    tar = tarfile.open(tar_url, 'r')\n",
    "    for item in tar:\n",
    "        tar.extract(item, extract_path)\n",
    "        if item.name.find(\".tgz\") != -1 or item.name.find(\".tar\") != -1:\n",
    "            extract(item.name, \"./\" + item.name[:item.name.rfind('/')])\n",
    "try:\n",
    "\n",
    "    extract(sys.argv[1] + '.tgz')\n",
    "    print('Done.')\n",
    "except:\n",
    "    name = os.path.basename(sys.argv[0])\n",
    "    print(name[:name.rfind('.')], '<filename>')"
   ]
  },
  {
   "cell_type": "code",
   "execution_count": 4,
   "id": "049639fb",
   "metadata": {},
   "outputs": [
    {
     "name": "stdout",
     "output_type": "stream",
     "text": [
      "imagenette2-160.tgz\n"
     ]
    }
   ],
   "source": [
    "extract('imagenette2-160.tgz')"
   ]
  },
  {
   "cell_type": "code",
   "execution_count": 5,
   "id": "59e4e30e",
   "metadata": {},
   "outputs": [
    {
     "name": "stdout",
     "output_type": "stream",
     "text": [
      "Found 9469 images belonging to 10 classes.\n",
      "Found 3925 images belonging to 10 classes.\n"
     ]
    }
   ],
   "source": [
    "train_img_datagen = ImageDataGenerator(rescale=1./255)\n",
    "val_img_datagen = ImageDataGenerator(rescale=1./255)\n",
    "\n",
    "train_set = train_img_datagen.flow_from_directory('imagenette2-160/train',\n",
    "                                                 target_size=(160,160),\n",
    "                                                 batch_size=64,\n",
    "                                                 class_mode='categorical')\n",
    "\n",
    "val_set = val_img_datagen.flow_from_directory('imagenette2-160/val',\n",
    "                                                 target_size=(160,160),\n",
    "                                                 batch_size=64,\n",
    "                                                 class_mode='categorical')"
   ]
  },
  {
   "cell_type": "code",
   "execution_count": 6,
   "id": "c1ede3db",
   "metadata": {},
   "outputs": [],
   "source": [
    "base_model = tf.keras.applications.ResNet50(input_shape=(160,160,3), include_top=False, weights='imagenet', pooling='avg')"
   ]
  },
  {
   "cell_type": "code",
   "execution_count": 7,
   "id": "bcd948ee",
   "metadata": {},
   "outputs": [],
   "source": [
    "model = Sequential()\n",
    "model.add(base_model)\n",
    "model.add(Dense(10,activation='softmax'))"
   ]
  },
  {
   "cell_type": "code",
   "execution_count": 8,
   "id": "b9e84dbe",
   "metadata": {},
   "outputs": [
    {
     "name": "stdout",
     "output_type": "stream",
     "text": [
      "Model: \"sequential\"\n",
      "_________________________________________________________________\n",
      "Layer (type)                 Output Shape              Param #   \n",
      "=================================================================\n",
      "resnet50 (Functional)        (None, 2048)              23587712  \n",
      "_________________________________________________________________\n",
      "dense (Dense)                (None, 10)                20490     \n",
      "=================================================================\n",
      "Total params: 23,608,202\n",
      "Trainable params: 23,555,082\n",
      "Non-trainable params: 53,120\n",
      "_________________________________________________________________\n"
     ]
    }
   ],
   "source": [
    "model.summary()"
   ]
  },
  {
   "cell_type": "code",
   "execution_count": 9,
   "id": "bc6c730b",
   "metadata": {},
   "outputs": [],
   "source": [
    "model.compile(loss='categorical_crossentropy', optimizer=Adam(learning_rate=0.001, decay=1e-6), metrics=['accuracy'])"
   ]
  },
  {
   "cell_type": "code",
   "execution_count": 10,
   "id": "aba7ad8f",
   "metadata": {},
   "outputs": [],
   "source": [
    "try: \n",
    "    os.mkdir('./checkpoint')\n",
    "except:\n",
    "    pass"
   ]
  },
  {
   "cell_type": "code",
   "execution_count": 11,
   "id": "cdd3fb66",
   "metadata": {},
   "outputs": [],
   "source": [
    "file_name = 'best_model_tl.h5'\n",
    "checkpoint_path = os.path.join('./checkpoint',file_name)\n",
    "\n",
    "call_back = tf.keras.callbacks.ModelCheckpoint(filepath=checkpoint_path, \n",
    "                                                 monitor='val_accuracy', \n",
    "                                                 verbose=1,\n",
    "                                                 save_freq='epoch',\n",
    "                                                 save_best_only=True, \n",
    "                                                 save_weights_only=False, \n",
    "                                                 mode='max')"
   ]
  },
  {
   "cell_type": "code",
   "execution_count": 12,
   "id": "72742971",
   "metadata": {},
   "outputs": [
    {
     "name": "stdout",
     "output_type": "stream",
     "text": [
      "Epoch 1/30\n",
      "148/148 [==============================] - 73s 427ms/step - loss: 0.8549 - accuracy: 0.7556 - val_loss: 64.4128 - val_accuracy: 0.0986\n",
      "\n",
      "Epoch 00001: val_accuracy improved from -inf to 0.09860, saving model to ./checkpoint\\best_model_tl.h5\n"
     ]
    },
    {
     "name": "stderr",
     "output_type": "stream",
     "text": [
      "C:\\Users\\Lipe\\anaconda3\\envs\\awari\\lib\\site-packages\\tensorflow\\python\\keras\\utils\\generic_utils.py:494: CustomMaskWarning: Custom mask layers require a config and must override get_config. When loading, the custom mask layer must be passed to the custom_objects argument.\n",
      "  warnings.warn('Custom mask layers require a config and must override '\n"
     ]
    },
    {
     "name": "stdout",
     "output_type": "stream",
     "text": [
      "Epoch 2/30\n",
      "148/148 [==============================] - 60s 406ms/step - loss: 0.3522 - accuracy: 0.8875 - val_loss: 2.4539 - val_accuracy: 0.0994\n",
      "\n",
      "Epoch 00002: val_accuracy improved from 0.09860 to 0.09936, saving model to ./checkpoint\\best_model_tl.h5\n",
      "Epoch 3/30\n",
      "148/148 [==============================] - 60s 407ms/step - loss: 0.2244 - accuracy: 0.9296 - val_loss: 6.2178 - val_accuracy: 0.0996\n",
      "\n",
      "Epoch 00003: val_accuracy improved from 0.09936 to 0.09962, saving model to ./checkpoint\\best_model_tl.h5\n",
      "Epoch 4/30\n",
      "148/148 [==============================] - 60s 408ms/step - loss: 0.1307 - accuracy: 0.9565 - val_loss: 3.0949 - val_accuracy: 0.1931\n",
      "\n",
      "Epoch 00004: val_accuracy improved from 0.09962 to 0.19312, saving model to ./checkpoint\\best_model_tl.h5\n",
      "Epoch 5/30\n",
      "148/148 [==============================] - 60s 408ms/step - loss: 0.0949 - accuracy: 0.9685 - val_loss: 1.9549 - val_accuracy: 0.4688\n",
      "\n",
      "Epoch 00005: val_accuracy improved from 0.19312 to 0.46879, saving model to ./checkpoint\\best_model_tl.h5\n",
      "Epoch 6/30\n",
      "148/148 [==============================] - 61s 409ms/step - loss: 0.3026 - accuracy: 0.9159 - val_loss: 46.4315 - val_accuracy: 0.3022\n",
      "\n",
      "Epoch 00006: val_accuracy did not improve from 0.46879\n",
      "Epoch 7/30\n",
      "148/148 [==============================] - 61s 410ms/step - loss: 0.2141 - accuracy: 0.9315 - val_loss: 0.7487 - val_accuracy: 0.7959\n",
      "\n",
      "Epoch 00007: val_accuracy improved from 0.46879 to 0.79592, saving model to ./checkpoint\\best_model_tl.h5\n",
      "Epoch 8/30\n",
      "148/148 [==============================] - 61s 410ms/step - loss: 0.0927 - accuracy: 0.9728 - val_loss: 1.9033 - val_accuracy: 0.6326\n",
      "\n",
      "Epoch 00008: val_accuracy did not improve from 0.79592\n",
      "Epoch 9/30\n",
      "148/148 [==============================] - 62s 419ms/step - loss: 0.0507 - accuracy: 0.9850 - val_loss: 1.5493 - val_accuracy: 0.6943\n",
      "\n",
      "Epoch 00009: val_accuracy did not improve from 0.79592\n",
      "Epoch 10/30\n",
      "148/148 [==============================] - 62s 418ms/step - loss: 0.0251 - accuracy: 0.9925 - val_loss: 0.7333 - val_accuracy: 0.8308\n",
      "\n",
      "Epoch 00010: val_accuracy improved from 0.79592 to 0.83083, saving model to ./checkpoint\\best_model_tl.h5\n",
      "Epoch 11/30\n",
      "148/148 [==============================] - 62s 422ms/step - loss: 0.1395 - accuracy: 0.9571 - val_loss: 5.7277 - val_accuracy: 0.4606\n",
      "\n",
      "Epoch 00011: val_accuracy did not improve from 0.83083\n",
      "Epoch 12/30\n",
      "148/148 [==============================] - 61s 413ms/step - loss: 0.1122 - accuracy: 0.9639 - val_loss: 0.6491 - val_accuracy: 0.8324\n",
      "\n",
      "Epoch 00012: val_accuracy improved from 0.83083 to 0.83236, saving model to ./checkpoint\\best_model_tl.h5\n",
      "Epoch 13/30\n",
      "148/148 [==============================] - 62s 422ms/step - loss: 0.0379 - accuracy: 0.9872 - val_loss: 0.9389 - val_accuracy: 0.8107\n",
      "\n",
      "Epoch 00013: val_accuracy did not improve from 0.83236\n",
      "Epoch 14/30\n",
      "148/148 [==============================] - 61s 415ms/step - loss: 0.1071 - accuracy: 0.9740 - val_loss: 6.2928 - val_accuracy: 0.2211\n",
      "\n",
      "Epoch 00014: val_accuracy did not improve from 0.83236\n",
      "Epoch 15/30\n",
      "148/148 [==============================] - 62s 416ms/step - loss: 0.1711 - accuracy: 0.9479 - val_loss: 1.1917 - val_accuracy: 0.6991\n",
      "\n",
      "Epoch 00015: val_accuracy did not improve from 0.83236\n",
      "Epoch 16/30\n",
      "148/148 [==============================] - 63s 425ms/step - loss: 0.0272 - accuracy: 0.9914 - val_loss: 0.7406 - val_accuracy: 0.8301\n",
      "\n",
      "Epoch 00016: val_accuracy did not improve from 0.83236\n",
      "Epoch 17/30\n",
      "148/148 [==============================] - 61s 415ms/step - loss: 0.0127 - accuracy: 0.9970 - val_loss: 0.4891 - val_accuracy: 0.8767\n",
      "\n",
      "Epoch 00017: val_accuracy improved from 0.83236 to 0.87669, saving model to ./checkpoint\\best_model_tl.h5\n",
      "Epoch 18/30\n",
      "148/148 [==============================] - 62s 417ms/step - loss: 0.0044 - accuracy: 0.9986 - val_loss: 0.5003 - val_accuracy: 0.8859\n",
      "\n",
      "Epoch 00018: val_accuracy improved from 0.87669 to 0.88586, saving model to ./checkpoint\\best_model_tl.h5\n",
      "Epoch 19/30\n",
      "148/148 [==============================] - 61s 413ms/step - loss: 0.0072 - accuracy: 0.9976 - val_loss: 0.7392 - val_accuracy: 0.8403\n",
      "\n",
      "Epoch 00019: val_accuracy did not improve from 0.88586\n",
      "Epoch 20/30\n",
      "148/148 [==============================] - 62s 419ms/step - loss: 0.0192 - accuracy: 0.9938 - val_loss: 0.9060 - val_accuracy: 0.8064\n",
      "\n",
      "Epoch 00020: val_accuracy did not improve from 0.88586\n",
      "Epoch 21/30\n",
      "148/148 [==============================] - 63s 428ms/step - loss: 0.0376 - accuracy: 0.9882 - val_loss: 1.3545 - val_accuracy: 0.7251\n",
      "\n",
      "Epoch 00021: val_accuracy did not improve from 0.88586\n",
      "Epoch 22/30\n",
      "148/148 [==============================] - 62s 420ms/step - loss: 0.0552 - accuracy: 0.9818 - val_loss: 1.0873 - val_accuracy: 0.7669\n",
      "\n",
      "Epoch 00022: val_accuracy did not improve from 0.88586\n",
      "Epoch 23/30\n",
      "148/148 [==============================] - 62s 421ms/step - loss: 0.0558 - accuracy: 0.9824 - val_loss: 0.9925 - val_accuracy: 0.7783\n",
      "\n",
      "Epoch 00023: val_accuracy did not improve from 0.88586\n",
      "Epoch 24/30\n",
      "148/148 [==============================] - 63s 423ms/step - loss: 0.0335 - accuracy: 0.9892 - val_loss: 1.4744 - val_accuracy: 0.7062\n",
      "\n",
      "Epoch 00024: val_accuracy did not improve from 0.88586\n",
      "Epoch 25/30\n",
      "148/148 [==============================] - 63s 427ms/step - loss: 0.0429 - accuracy: 0.9863 - val_loss: 1.3121 - val_accuracy: 0.6848\n",
      "\n",
      "Epoch 00025: val_accuracy did not improve from 0.88586\n",
      "Epoch 26/30\n",
      "148/148 [==============================] - 62s 419ms/step - loss: 0.0228 - accuracy: 0.9918 - val_loss: 1.0851 - val_accuracy: 0.7771\n",
      "\n",
      "Epoch 00026: val_accuracy did not improve from 0.88586\n",
      "Epoch 27/30\n",
      "148/148 [==============================] - 63s 424ms/step - loss: 0.0376 - accuracy: 0.9879 - val_loss: 1.8481 - val_accuracy: 0.6392\n",
      "\n",
      "Epoch 00027: val_accuracy did not improve from 0.88586\n",
      "Epoch 28/30\n",
      "148/148 [==============================] - 67s 450ms/step - loss: 0.0625 - accuracy: 0.9836 - val_loss: 1.4777 - val_accuracy: 0.6711\n",
      "\n",
      "Epoch 00028: val_accuracy did not improve from 0.88586\n",
      "Epoch 29/30\n",
      "148/148 [==============================] - 68s 458ms/step - loss: 0.1303 - accuracy: 0.9616 - val_loss: 0.9963 - val_accuracy: 0.7432\n",
      "\n",
      "Epoch 00029: val_accuracy did not improve from 0.88586\n",
      "Epoch 30/30\n",
      "148/148 [==============================] - 68s 458ms/step - loss: 0.0276 - accuracy: 0.9921 - val_loss: 0.6861 - val_accuracy: 0.8420\n",
      "\n",
      "Epoch 00030: val_accuracy did not improve from 0.88586\n"
     ]
    }
   ],
   "source": [
    "model_info = model.fit(train_set, epochs=30, validation_data=val_set, callbacks=call_back)"
   ]
  },
  {
   "cell_type": "code",
   "execution_count": 13,
   "id": "02d09731",
   "metadata": {},
   "outputs": [],
   "source": [
    " #Saving the model\n",
    "model.save('./model_tl.h5')"
   ]
  },
  {
   "cell_type": "code",
   "execution_count": 14,
   "id": "a6b06e1b",
   "metadata": {},
   "outputs": [],
   "source": [
    "# plots accuracy and loss curves\n",
    "def plot_model_history(model_history):\n",
    "    \"\"\"\n",
    "    Plot Accuracy and Loss curves given the model_history\n",
    "    \"\"\"\n",
    "    fig, axs = plt.subplots(1,2,figsize=(15,5))\n",
    "    # summarize history for accuracy\n",
    "    axs[0].plot(range(1,len(model_history.history['accuracy'])+1),model_history.history['accuracy'])\n",
    "    axs[0].plot(range(1,len(model_history.history['val_accuracy'])+1),model_history.history['val_accuracy'])\n",
    "    axs[0].set_title('Model Accuracy')\n",
    "    axs[0].set_ylabel('Accuracy')\n",
    "    axs[0].set_xlabel('Epoch')\n",
    "    axs[0].set_xticks(np.arange(1,len(model_history.history['accuracy'])+1),len(model_history.history['accuracy'])/10)\n",
    "    axs[0].legend(['train', 'val'], loc='best')\n",
    "    # summarize history for loss\n",
    "    axs[1].plot(range(1,len(model_history.history['loss'])+1),model_history.history['loss'])\n",
    "    axs[1].plot(range(1,len(model_history.history['val_loss'])+1),model_history.history['val_loss'])\n",
    "    axs[1].set_title('Model Loss')\n",
    "    axs[1].set_ylabel('Loss')\n",
    "    axs[1].set_xlabel('Epoch')\n",
    "    axs[1].set_xticks(np.arange(1,len(model_history.history['loss'])+1),len(model_history.history['loss'])/10)\n",
    "    axs[1].legend(['train', 'val'], loc='best')\n",
    "    fig.savefig('plot.png')\n",
    "    plt.show()"
   ]
  },
  {
   "cell_type": "code",
   "execution_count": 15,
   "id": "c49ddaae",
   "metadata": {},
   "outputs": [
    {
     "name": "stderr",
     "output_type": "stream",
     "text": [
      "<ipython-input-14-f957539d046f>:13: MatplotlibDeprecationWarning: Passing the minor parameter of set_ticks() positionally is deprecated since Matplotlib 3.2; the parameter will become keyword-only two minor releases later.\n",
      "  axs[0].set_xticks(np.arange(1,len(model_history.history['accuracy'])+1),len(model_history.history['accuracy'])/10)\n",
      "<ipython-input-14-f957539d046f>:21: MatplotlibDeprecationWarning: Passing the minor parameter of set_ticks() positionally is deprecated since Matplotlib 3.2; the parameter will become keyword-only two minor releases later.\n",
      "  axs[1].set_xticks(np.arange(1,len(model_history.history['loss'])+1),len(model_history.history['loss'])/10)\n"
     ]
    },
    {
     "data": {
      "image/png": "[encoded data removed]",
      "text/plain": [
       "<Figure size 1080x360 with 2 Axes>"
      ]
     },
     "metadata": {
      "needs_background": "light"
     },
     "output_type": "display_data"
    }
   ],
   "source": [
    "plot_model_history(model_info)"
   ]
  },
  {
   "cell_type": "code",
   "execution_count": null,
   "id": "34a61069",
   "metadata": {},
   "outputs": [],
   "source": []
  }
 ],
 "metadata": {
  "kernelspec": {
   "display_name": "Python 3",
   "language": "python",
   "name": "python3"
  },
  "language_info": {
   "codemirror_mode": {
    "name": "ipython",
    "version": 3
   },
   "file_extension": ".py",
   "mimetype": "text/x-python",
   "name": "python",
   "nbconvert_exporter": "python",
   "pygments_lexer": "ipython3",
   "version": "3.8.5"
  }
 },
 "nbformat": 4,
 "nbformat_minor": 5
}
